{
 "metadata": {
  "language_info": {
   "codemirror_mode": {
    "name": "ipython",
    "version": 3
   },
   "file_extension": ".py",
   "mimetype": "text/x-python",
   "name": "python",
   "nbconvert_exporter": "python",
   "pygments_lexer": "ipython3",
   "version": "3.8.5-final"
  },
  "orig_nbformat": 2,
  "kernelspec": {
   "name": "python38564bited141826c52945a8b08f5971161ba84f",
   "display_name": "Python 3.8.5 64-bit",
   "language": "python"
  }
 },
 "nbformat": 4,
 "nbformat_minor": 2,
 "cells": [
  {
   "cell_type": "code",
   "execution_count": 1,
   "metadata": {},
   "outputs": [],
   "source": [
    "import numpy as np\n",
    "from selenium import webdriver\n",
    "import time\n",
    "import pandas as pd"
   ]
  },
  {
   "cell_type": "code",
   "execution_count": 2,
   "metadata": {},
   "outputs": [],
   "source": [
    "browser = webdriver.Firefox()\n",
    "browser.get('https://www.google.com/search?channel=fs&client=ubuntu&q=numeri+casuali')\n",
    "time.sleep(10)\n",
    "# do il tempo di cliccare continua"
   ]
  },
  {
   "cell_type": "code",
   "execution_count": 3,
   "metadata": {},
   "outputs": [],
   "source": [
    "#imposto i valori\n",
    "minimo = 1\n",
    "massimo =23\n",
    "volte = 10\n",
    "\n",
    "min = browser.find_element_by_id('UMy8j')\n",
    "min.clear()\n",
    "min.send_keys(minimo)\n",
    "max = browser.find_element_by_id('nU5Yvb')\n",
    "max.clear()\n",
    "max.send_keys(massimo)"
   ]
  },
  {
   "cell_type": "code",
   "execution_count": 4,
   "metadata": {},
   "outputs": [
    {
     "output_type": "error",
     "ename": "SyntaxError",
     "evalue": "invalid syntax (<ipython-input-4-95cb87bfa0ca>, line 4)",
     "traceback": [
      "\u001b[0;36m  File \u001b[0;32m\"<ipython-input-4-95cb87bfa0ca>\"\u001b[0;36m, line \u001b[0;32m4\u001b[0m\n\u001b[0;31m    numeri={'index':[],'numero',[]}\u001b[0m\n\u001b[0m                               ^\u001b[0m\n\u001b[0;31mSyntaxError\u001b[0m\u001b[0;31m:\u001b[0m invalid syntax\n"
     ]
    }
   ],
   "source": [
    "# con un ciclo faccio n volte l'estrazione\n",
    "genera = browser.find_element_by_id('ZdzlKb')\n",
    "ris = browser.find_element_by_class_name('gws-csf-randomnumber__result')\n",
    "numeri={'index':[],'numero':[]}\n",
    "for i in range(volte): \n",
    "    genera.click()\n",
    "    time.sleep(0.5)\n",
    "    numeri['index'].append(i)\n",
    "    numeri['numero'].append(int(ris.text))\n",
    "\n",
    "print(numeri)\n",
    "time.sleep(5)\n",
    "browser.quit()"
   ]
  }
 ]
}